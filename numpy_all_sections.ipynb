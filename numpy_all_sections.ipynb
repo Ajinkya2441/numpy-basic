{
  "cells": [
    {
      "cell_type": "code",
      "execution_count": 1,
      "id": "855b7c4f",
      "metadata": {},
      "outputs": [],
      "source": [
        "import numpy as np"
      ]
    },
    {
      "cell_type": "code",
      "execution_count": 2,
      "id": "a9298e15",
      "metadata": {},
      "outputs": [
        {
          "name": "stdout",
          "output_type": "stream",
          "text": [
            "ARRAY CREATION\n",
            "[1 2 3]\n",
            "[4 5 6]\n",
            "[0 2 4 6 8]\n",
            "[0.   0.25 0.5  0.75 1.  ]\n",
            "[  10.  100. 1000.]\n",
            "[   1.   10.  100. 1000.]\n",
            "[[0. 0. 0.]\n",
            " [0. 0. 0.]]\n",
            "[[1. 1. 1.]\n",
            " [1. 1. 1.]]\n",
            "[[1. 1. 1.]\n",
            " [1. 1. 1.]]\n",
            "[[7 7 7]\n",
            " [7 7 7]]\n",
            "[[1. 0. 0.]\n",
            " [0. 1. 0.]\n",
            " [0. 0. 1.]]\n",
            "[[0. 1. 0. 0.]\n",
            " [0. 0. 1. 0.]\n",
            " [0. 0. 0. 1.]]\n",
            "[[1 0 0]\n",
            " [0 2 0]\n",
            " [0 0 3]]\n",
            "[[1. 0. 0.]\n",
            " [1. 1. 0.]\n",
            " [1. 1. 1.]]\n",
            "[[1 0]\n",
            " [3 4]]\n",
            "[[1 2]\n",
            " [0 4]]\n",
            "(array([[1, 2],\n",
            "       [1, 2]]), array([[3, 3],\n",
            "       [4, 4]]))\n",
            "[[0 1 2]\n",
            " [1 2 3]]\n",
            "[0 1 2 3 4]\n",
            "[[[0 0 0]\n",
            "  [1 1 1]]\n",
            "\n",
            " [[0 1 2]\n",
            "  [0 1 2]]]\n"
          ]
        }
      ],
      "source": [
        "\n",
        "# ==========================================================\n",
        "# 1. ARRAY CREATION\n",
        "# ==========================================================\n",
        "print(\"ARRAY CREATION\")\n",
        "print(np.array([1,2,3]))              \n",
        "print(np.asarray([4,5,6]))           \n",
        "print(np.arange(0,10,2))                 \n",
        "print(np.linspace(0,1,5))              \n",
        "print(np.logspace(1,3,3))              \n",
        "print(np.geomspace(1,1000,4))           \n",
        "print(np.zeros((2,3)))                   # zeros\n",
        "print(np.ones((2,3)))                    # ones\n",
        "print(np.empty((2,3)))                   # empty\n",
        "print(np.full((2,3),7))                  # full\n",
        "print(np.identity(3))                    # identity\n",
        "print(np.eye(3,4,k=1))                   # eye with shift\n",
        "print(np.diag([1,2,3]))                  # diagonal\n",
        "print(np.tri(3))                         # lower triangle\n",
        "print(np.tril([[1,2],[3,4]]))            # lower part\n",
        "print(np.triu([[1,2],[3,4]]))            # upper part\n",
        "print(np.meshgrid([1,2],[3,4]))          # meshgrid\n",
        "print(np.fromfunction(lambda i,j: i+j,(2,3),dtype=int))\n",
        "print(np.fromiter(range(5),dtype=int))\n",
        "print(np.indices((2,3)))"
      ]
    },
    {
      "cell_type": "code",
      "execution_count": 3,
      "id": "97ae7544",
      "metadata": {},
      "outputs": [
        {
          "name": "stdout",
          "output_type": "stream",
          "text": [
            "[[0.13219149 0.74724986 0.77555768]\n",
            " [0.51547425 0.88059183 0.05146459]]\n",
            "[[-0.74512471 -0.19450348 -1.65074369]\n",
            " [ 0.96041551 -0.68284158  0.10284538]]\n",
            "[[6 7 4]\n",
            " [7 9 3]]\n",
            "[[0.1670672  0.66128846]\n",
            " [0.51193331 0.31272436]]\n",
            "[1 3 2 3 2]\n",
            "[0 3 1 2 4]\n",
            "[4 3 2 1]\n"
          ]
        }
      ],
      "source": [
        "\n",
        "# Random arrays\n",
        "print(np.random.rand(2,3))\n",
        "print(np.random.randn(2,3))\n",
        "print(np.random.randint(1,10,(2,3)))\n",
        "print(np.random.random_sample((2,2)))\n",
        "print(np.random.choice([1,2,3],5))\n",
        "arr = np.arange(5)\n",
        "np.random.shuffle(arr)\n",
        "print(arr)\n",
        "print(np.random.permutation([1,2,3,4]))"
      ]
    },
    {
      "cell_type": "code",
      "execution_count": 4,
      "id": "9b45e59f",
      "metadata": {},
      "outputs": [
        {
          "name": "stdout",
          "output_type": "stream",
          "text": [
            "\n",
            "ARRAY ATTRIBUTES\n",
            "(2, 3) 2 6 int64 8 48\n",
            "True [ True False]\n",
            "[False  True]\n",
            "[ True False False]\n"
          ]
        }
      ],
      "source": [
        "\n",
        "# ==========================================================\n",
        "# 2. ARRAY ATTRIBUTES & INSPECTION\n",
        "# ==========================================================\n",
        "print(\"\\nARRAY ATTRIBUTES\")\n",
        "a = np.array([[1,2,3],[4,5,6]])\n",
        "print(a.shape, a.ndim, a.size, a.dtype, a.itemsize, a.nbytes)\n",
        "print(np.isscalar(5), np.iscomplex([1+2j,3]))\n",
        "print(np.isreal([1+2j,3]))\n",
        "print(np.isfinite([1,np.inf,np.nan]))"
      ]
    },
    {
      "cell_type": "code",
      "execution_count": null,
      "id": "e8dce688",
      "metadata": {},
      "outputs": [
        {
          "name": "stdout",
          "output_type": "stream",
          "text": [
            "\n",
            "INDEXING & SLICING\n",
            "2\n",
            "[2 3 4 5 6]\n",
            "[9 8 7 6 5 4 3 2 1 0]\n",
            "[1 3 5]\n",
            "[0 2 4 6 8]\n",
            "[1 4 7]\n",
            "[99 20 77 40]\n",
            "[1 5 3]\n",
            "(array([6, 7, 8, 9]),)\n",
            "(array([1, 2, 3, 4, 5, 6, 7, 8, 9]),)\n",
            "[[6]\n",
            " [7]\n",
            " [8]\n",
            " [9]]\n",
            "[20 40]\n"
          ]
        }
      ],
      "source": [
        "# ==========================================================\n",
        "# 3. INDEXING & SLICING\n",
        "# ==========================================================\n",
        "print(\"\\nINDEXING & SLICING\")\n",
        "b = np.arange(10)\n",
        "print(b[2])\n",
        "print(b[2:7])\n",
        "print(b[::-1])\n",
        "print(b[[1,3,5]])\n",
        "print(b[b%2==0])\n",
        "print(np.take(b,[1,4,7]))\n",
        "c = np.array([10,20,30,40])\n",
        "np.put(c,[0,2],[99,77])\n",
        "print(c)\n",
        "print(np.choose([0,1,0],[ [1,2,3],[4,5,6] ]))\n",
        "print(np.where(b>5))\n",
        "print(np.nonzero(b))\n",
        "print(np.argwhere(b>5))\n",
        "print(np.compress([0,1,0,1],c))"
      ]
    },
    {
      "cell_type": "code",
      "execution_count": 6,
      "id": "3cf82694",
      "metadata": {},
      "outputs": [
        {
          "name": "stdout",
          "output_type": "stream",
          "text": [
            "\n",
            "ARRAY MANIPULATION\n",
            "[[0 1 2]\n",
            " [3 4 5]]\n",
            "[0 1 2 3 4 5]\n",
            "[0 1 2 3 4 5]\n",
            "[1 2 3]\n",
            "[[1 4]\n",
            " [2 5]\n",
            " [3 6]]\n",
            "[[1 3]\n",
            " [2 4]]\n",
            "(2, 3, 1)\n",
            "[0 1 2 3 4 5 0 1 2 3 4 5]\n",
            "[[0 1 2 3 4 5]\n",
            " [0 1 2 3 4 5]]\n",
            "[0 1 2 3 4 5 0 1 2 3 4 5]\n",
            "[[0 1 2 3 4 5]\n",
            " [0 1 2 3 4 5]]\n",
            "[[[0 0]\n",
            "  [1 1]\n",
            "  [2 2]\n",
            "  [3 3]\n",
            "  [4 4]\n",
            "  [5 5]]]\n",
            "[[1 4]\n",
            " [2 5]\n",
            " [3 6]]\n",
            "[[1 2 3]\n",
            " [4 5 6]]\n",
            "[array([0, 1]), array([2, 3]), array([4, 5])]\n",
            "[array([[0, 1],\n",
            "       [6, 7]]), array([[2, 3],\n",
            "       [8, 9]]), array([[ 4,  5],\n",
            "       [10, 11]])]\n",
            "[array([[0, 1],\n",
            "       [2, 3]]), array([[4, 5],\n",
            "       [6, 7]]), array([[ 8,  9],\n",
            "       [10, 11]])]\n",
            "[1 2 1 2 1 2]\n",
            "[1 1 1 2 2 2]\n"
          ]
        },
        {
          "name": "stderr",
          "output_type": "stream",
          "text": [
            "C:\\Users\\Ajinkya\\AppData\\Local\\Temp\\ipykernel_10156\\74123089.py:19: DeprecationWarning: `row_stack` alias is deprecated. Use `np.vstack` directly.\n",
            "  print(np.row_stack(([1,2,3],[4,5,6])))\n"
          ]
        }
      ],
      "source": [
        "\n",
        "\n",
        "# ==========================================================\n",
        "# 4. ARRAY MANIPULATION\n",
        "# ==========================================================\n",
        "print(\"\\nARRAY MANIPULATION\")\n",
        "d = np.arange(6)\n",
        "print(d.reshape(2,3))\n",
        "print(d.ravel())\n",
        "print(d.flatten())\n",
        "print(np.squeeze([[1],[2],[3]]))\n",
        "print(np.transpose([[1,2,3],[4,5,6]]))\n",
        "print(np.swapaxes([[1,2],[3,4]],0,1))\n",
        "print(np.moveaxis(np.ones((1,2,3)),0,-1).shape)\n",
        "print(np.concatenate([d,d]))\n",
        "print(np.stack([d,d]))\n",
        "print(np.hstack([d,d]))\n",
        "print(np.vstack([d,d]))\n",
        "print(np.dstack([d,d]))\n",
        "print(np.column_stack(([1,2,3],[4,5,6])))\n",
        "print(np.row_stack(([1,2,3],[4,5,6])))\n",
        "print(np.split(d,3))\n",
        "print(np.hsplit(np.arange(12).reshape(2,6),3))\n",
        "print(np.vsplit(np.arange(12).reshape(6,2),3))\n",
        "print(np.tile([1,2],3))\n",
        "print(np.repeat([1,2],3))"
      ]
    },
    {
      "cell_type": "code",
      "execution_count": 7,
      "id": "6f95e1b9",
      "metadata": {},
      "outputs": [
        {
          "name": "stdout",
          "output_type": "stream",
          "text": [
            "\n",
            "MATH OPERATIONS\n",
            "[5 7 9] [-3 -3 -3] [ 4 10 18] [0.25 0.4  0.5 ]\n",
            "[5 7 9] [-3 -3 -3]\n",
            "[ 4 10 18] [4.  2.5 2. ]\n",
            "[0 1 0]\n",
            "[1 4 9]\n",
            "[1 0 0]\n",
            "[0.84147098 0.90929743 0.14112001] [ 0.54030231 -0.41614684 -0.9899925 ] [ 1.55740772 -2.18503986 -0.14254654]\n",
            "[0.         1.57079633]\n",
            "[0.         1.17520119]\n",
            "[ 1. -2.]\n",
            "[ 2. -1.]\n",
            "[ 1. -1.]\n",
            "[2. 2.]\n",
            "[ 1. -1.]\n",
            "[2.71828183 7.3890561 ]\n",
            "[1.71828183 6.3890561 ]\n",
            "[0. 1. 2.]\n",
            "[0. 1. 2.]\n",
            "[0. 1. 2.]\n",
            "[0.         0.69314718]\n",
            "[1. 2. 3.]\n",
            "[1. 2. 3.]\n",
            "[4 9]\n",
            "[1 2 3]\n",
            "[-1  0  1]\n",
            "[-1  0  1]\n"
          ]
        }
      ],
      "source": [
        "\n",
        "\n",
        "\n",
        "\n",
        "# ==========================================================\n",
        "# 5. MATHEMATICAL OPERATIONS\n",
        "# ==========================================================\n",
        "print(\"\\nMATH OPERATIONS\")\n",
        "x = np.array([1,2,3])\n",
        "y = np.array([4,5,6])\n",
        "print(x+y, x-y, x*y, x/y)\n",
        "print(np.add(x,y), np.subtract(x,y))\n",
        "print(np.multiply(x,y), np.divide(y,x))\n",
        "print(np.mod(y,x))\n",
        "print(np.power(x,2))\n",
        "print(np.reciprocal([1,2,3]))\n",
        "print(np.sin(x), np.cos(x), np.tan(x))\n",
        "print(np.arcsin([0,1]))\n",
        "print(np.sinh([0,1]))\n",
        "print(np.floor([1.7,-1.7]))\n",
        "print(np.ceil([1.2,-1.2]))\n",
        "print(np.trunc([1.5,-1.5]))\n",
        "print(np.rint([1.5,2.5]))\n",
        "print(np.fix([1.5,-1.5]))\n",
        "print(np.exp([1,2]))\n",
        "print(np.expm1([1,2]))\n",
        "print(np.log([1,np.e,np.e**2]))\n",
        "print(np.log10([1,10,100]))\n",
        "print(np.log2([1,2,4]))\n",
        "print(np.log1p([0,1]))\n",
        "print(np.sqrt([1,4,9]))\n",
        "print(np.cbrt([1,8,27]))\n",
        "print(np.square([2,3]))\n",
        "print(np.abs([-1,2,-3]))\n",
        "print(np.sign([-10,0,10]))\n",
        "print(np.clip([-5,0,5],-1,1))"
      ]
    },
    {
      "cell_type": "code",
      "execution_count": 8,
      "id": "0af46b87",
      "metadata": {},
      "outputs": [
        {
          "name": "stdout",
          "output_type": "stream",
          "text": [
            "\n",
            "AGGREGATES\n",
            "21 720\n",
            "3.5 1.707825127659933 2.9166666666666665\n",
            "1 6 5\n",
            "0 5\n",
            "[ 1  3  6 10 15 21] [  1   2   6  24 120 720]\n",
            "3.5 3.5\n",
            "2.25\n"
          ]
        }
      ],
      "source": [
        "\n",
        "\n",
        "# ==========================================================\n",
        "# 6. AGGREGATE / STATISTICS\n",
        "# ==========================================================\n",
        "print(\"\\nAGGREGATES\")\n",
        "m = np.array([[1,2,3],[4,5,6]])\n",
        "print(m.sum(), m.prod())\n",
        "print(m.mean(), m.std(), m.var())\n",
        "print(m.min(), m.max(), np.ptp(m))\n",
        "print(m.argmin(), m.argmax())\n",
        "print(m.cumsum(), m.cumprod())\n",
        "print(np.median(m), np.percentile(m,50))\n",
        "print(np.quantile(m,0.25))\n"
      ]
    },
    {
      "cell_type": "code",
      "execution_count": 9,
      "id": "17014f7d",
      "metadata": {},
      "outputs": [
        {
          "name": "stdout",
          "output_type": "stream",
          "text": [
            "\n",
            "LINEAR ALGEBRA\n",
            "[[19 22]\n",
            " [43 50]]\n",
            "[[19 22]\n",
            " [43 50]]\n",
            "32\n",
            "11\n",
            "[[3 4]\n",
            " [6 8]]\n",
            "[-3  6 -3]\n",
            "11\n",
            "-2.0000000000000004\n",
            "[[-2.   1. ]\n",
            " [ 1.5 -0.5]]\n",
            "EigResult(eigenvalues=array([-0.37228132,  5.37228132]), eigenvectors=array([[-0.82456484, -0.41597356],\n",
            "       [ 0.56576746, -0.90937671]]))\n",
            "[-0.37228132  5.37228132]\n",
            "SVDResult(U=array([[-0.40455358, -0.9145143 ],\n",
            "       [-0.9145143 ,  0.40455358]]), S=array([5.4649857 , 0.36596619]), Vh=array([[-0.57604844, -0.81741556],\n",
            "       [ 0.81741556, -0.57604844]]))\n",
            "QRResult(Q=array([[-0.31622777, -0.9486833 ],\n",
            "       [-0.9486833 ,  0.31622777]]), R=array([[-3.16227766, -4.42718872],\n",
            "       [ 0.        , -0.63245553]]))\n",
            "[[1. 0.]\n",
            " [0. 1.]]\n",
            "[-4.   4.5]\n",
            "(array([-4. ,  4.5]), array([], dtype=float64), np.int32(2), array([5.4649857 , 0.36596619]))\n",
            "[[ 7 10]\n",
            " [15 22]]\n",
            "2\n",
            "5.0\n",
            "14.933034373659268\n"
          ]
        }
      ],
      "source": [
        "\n",
        "# ==========================================================\n",
        "# 7. LINEAR ALGEBRA\n",
        "# ==========================================================\n",
        "print(\"\\nLINEAR ALGEBRA\")\n",
        "p = np.array([[1,2],[3,4]])\n",
        "q = np.array([[5,6],[7,8]])\n",
        "print(np.dot(p,q))\n",
        "print(np.matmul(p,q))\n",
        "print(np.vdot([1,2,3],[4,5,6]))\n",
        "print(np.inner([1,2],[3,4]))\n",
        "print(np.outer([1,2],[3,4]))\n",
        "print(np.cross([1,2,3],[4,5,6]))\n",
        "print(np.tensordot([1,2],[3,4],axes=1))\n",
        "print(np.linalg.det(p))\n",
        "print(np.linalg.inv(p))\n",
        "print(np.linalg.eig(p))\n",
        "print(np.linalg.eigvals(p))\n",
        "print(np.linalg.svd(p))\n",
        "print(np.linalg.qr(p))\n",
        "print(np.linalg.cholesky([[1,0],[0,1]]))\n",
        "print(np.linalg.solve(p,[5,6]))\n",
        "print(np.linalg.lstsq(p,[5,6],rcond=None))\n",
        "print(np.linalg.matrix_power(p,2))\n",
        "print(np.linalg.matrix_rank(p))\n",
        "print(np.linalg.norm([3,4]))\n",
        "print(np.linalg.cond(p))"
      ]
    },
    {
      "cell_type": "code",
      "execution_count": 10,
      "id": "7d35522e",
      "metadata": {},
      "outputs": [
        {
          "name": "stdout",
          "output_type": "stream",
          "text": [
            "\n",
            "RANDOM DISTRIBUTIONS\n",
            "[3 5 6 6 5]\n",
            "[4 4 6 4 3]\n",
            "[-0.59912898  0.55903517 -0.04591143 -1.31411807 -0.51990332]\n",
            "[0.19366774 0.96083843 0.95421749 0.52725343 0.55584466]\n",
            "[0.63473786 0.23366586 0.21138956 0.06237841 0.1148867 ]\n",
            "[9.47610661 3.09936547 4.00768885 5.40892922 1.22128981]\n",
            "[0.10167973 1.27721536 3.62108821 4.2863949  0.11762672]\n",
            "[0.74744696 2.13312975 0.04150701 1.7751704  0.30675143]\n",
            "[ 0.05594684  2.79736516  0.60977642  0.19790191 -0.88005278]\n",
            "[ 0.18164691 -0.10839228 -2.75334446  2.21583548 -3.5942771 ]\n",
            "[ 0 10]\n",
            "[[1.47825248 0.82603841]\n",
            " [0.65039168 1.23515412]]\n",
            "[0.25883098 8.32050306 0.07754318 1.44698334 6.03126817]\n",
            "[1 1 2 1 1]\n"
          ]
        }
      ],
      "source": [
        "\n",
        "\n",
        "# ==========================================================\n",
        "# 8. RANDOM (more distributions)\n",
        "# ==========================================================\n",
        "print(\"\\nRANDOM DISTRIBUTIONS\")\n",
        "print(np.random.binomial(10,0.5,5))\n",
        "print(np.random.poisson(5,5))\n",
        "print(np.random.normal(0,1,5))\n",
        "print(np.random.uniform(0,1,5))\n",
        "print(np.random.beta(2,5,5))\n",
        "print(np.random.gamma(2,2,5))\n",
        "print(np.random.chisquare(2,5))\n",
        "print(np.random.exponential(1,5))\n",
        "print(np.random.laplace(0,1,5))\n",
        "print(np.random.logistic(0,1,5))\n",
        "print(np.random.multinomial(10,[0.2,0.8]))\n",
        "print(np.random.multivariate_normal([0,0],[[1,0],[0,1]],2))\n",
        "print(np.random.pareto(1,5))\n",
        "print(np.random.zipf(2,5))\n"
      ]
    },
    {
      "cell_type": "code",
      "execution_count": 11,
      "id": "bbb457e1",
      "metadata": {},
      "outputs": [
        {
          "name": "stdout",
          "output_type": "stream",
          "text": [
            "\n",
            "SORTING & SET OPS\n",
            "[1 2 5 9]\n",
            "[3 1 0 2]\n",
            "[3 1 0 2]\n",
            "[1 2 5 9]\n",
            "[3 1 0 2]\n",
            "2\n",
            "[1 2 3]\n",
            "[2 3]\n",
            "[1 2 3]\n",
            "[1 2]\n",
            "[1 4]\n",
            "[False  True False]\n"
          ]
        },
        {
          "name": "stderr",
          "output_type": "stream",
          "text": [
            "C:\\Users\\Ajinkya\\AppData\\Local\\Temp\\ipykernel_10156\\4283673129.py:17: DeprecationWarning: `in1d` is deprecated. Use `np.isin` instead.\n",
            "  print(np.in1d([1,2,3],[2,4]))\n"
          ]
        }
      ],
      "source": [
        "\n",
        "# ==========================================================\n",
        "# 9. SORTING & SET OPS\n",
        "# ==========================================================\n",
        "print(\"\\nSORTING & SET OPS\")\n",
        "s = np.array([5,2,9,1])\n",
        "print(np.sort(s))\n",
        "print(np.argsort(s))\n",
        "print(np.lexsort((s,)))\n",
        "print(np.partition(s,2))\n",
        "print(np.argpartition(s,2))\n",
        "print(np.searchsorted([1,2,3,4,5],3))\n",
        "print(np.unique([1,2,2,3]))\n",
        "print(np.intersect1d([1,2,3],[2,3,4]))\n",
        "print(np.union1d([1,2],[2,3]))\n",
        "print(np.setdiff1d([1,2,3],[3,4]))\n",
        "print(np.setxor1d([1,2,3],[2,3,4]))\n",
        "print(np.in1d([1,2,3],[2,4]))"
      ]
    },
    {
      "cell_type": "code",
      "execution_count": 12,
      "id": "4da43187",
      "metadata": {},
      "outputs": [
        {
          "name": "stdout",
          "output_type": "stream",
          "text": [
            "\n",
            "FILE I/O\n",
            "[1. 2. 3.]\n"
          ]
        }
      ],
      "source": [
        "\n",
        "\n",
        "# ==========================================================\n",
        "# 10. FILE I/O\n",
        "# ==========================================================\n",
        "print(\"\\nFILE I/O\")\n",
        "np.savetxt(\"data.txt\", np.array([1,2,3]))\n",
        "print(np.loadtxt(\"data.txt\"))\n"
      ]
    },
    {
      "cell_type": "code",
      "execution_count": null,
      "id": "adbfd0e0",
      "metadata": {},
      "outputs": [],
      "source": []
    },
    {
      "cell_type": "code",
      "execution_count": 13,
      "metadata": {},
      "outputs": [
        {
          "name": "stdout",
          "output_type": "stream",
          "text": [
            "\n",
            "SPECIAL FUNCTIONS\n",
            "(array([[1, 2],\n",
            "       [1, 2]]), array([[3, 3],\n",
            "       [4, 4]]))\n",
            "(array([[0],\n",
            "       [1],\n",
            "       [2]]), array([[0, 1, 2]]))\n",
            "[[[0 0 0]\n",
            "  [1 1 1]\n",
            "  [2 2 2]]\n",
            "\n",
            " [[0 1 2]\n",
            "  [0 1 2]\n",
            "  [0 1 2]]]\n",
            "[[1 0 0]\n",
            " [0 2 0]\n",
            " [0 0 3]]\n",
            "(array([2, 2, 1]), array([1.        , 1.66666667, 2.33333333, 3.        ]))\n",
            "(array([[1., 1.],\n",
            "       [0., 1.]]), array([1. , 1.5, 2. ]), array([1. , 1.5, 2. ]))\n",
            "[1 4 3 2]\n",
            "[1 2 3]\n"
          ]
        }
      ],
      "source": [
        "\n",
        "# ==========================================================\n",
        "# 11. SPECIAL FUNCTIONS\n",
        "# ==========================================================\n",
        "print(\"\\nSPECIAL FUNCTIONS\")\n",
        "print(np.meshgrid([1,2],[3,4]))\n",
        "print(np.ogrid[0:3,0:3])\n",
        "print(np.mgrid[0:3,0:3])\n",
        "print(np.diagflat([1,2,3]))\n",
        "print(np.histogram([1,2,1,2,3],bins=3))\n",
        "print(np.histogram2d([1,2,1],[1,2,2],bins=2))\n",
        "print(np.digitize([0.2,6.4,3.0,1.6],bins=[0,1,3,5,7]))\n",
        "print(np.bincount([0,1,1,2,2,2]))"
      ]
    }
  ],
  "metadata": {
    "kernelspec": {
      "display_name": "Python 3",
      "language": "python",
      "name": "python3"
    },
    "language_info": {
      "codemirror_mode": {
        "name": "ipython",
        "version": 3
      },
      "file_extension": ".py",
      "mimetype": "text/x-python",
      "name": "python",
      "nbconvert_exporter": "python",
      "pygments_lexer": "ipython3",
      "version": "3.10.11"
    }
  },
  "nbformat": 4,
  "nbformat_minor": 5
}
