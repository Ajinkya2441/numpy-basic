{
 "cells": [
  {
   "cell_type": "code",
   "execution_count": 2,
   "id": "b0e0fa8c",
   "metadata": {},
   "outputs": [],
   "source": [
    "import numpy as np\n",
    "\n",
    "arr1 = np.array([1, 2, 3, 4, 5])         # 1D array\n",
    "arr2 = np.array([[1, 2, 3], [4, 5, 6]])  # 2D array (matrix)\n",
    "arr3 = np.array([[[1, 2], [3, 4]], [[5, 6], [7, 8]]])  # 3D array\n"
   ]
  },
  {
   "cell_type": "code",
   "execution_count": 4,
   "id": "60561530",
   "metadata": {},
   "outputs": [
    {
     "name": "stdout",
     "output_type": "stream",
     "text": [
      "[[1. 0. 0. 0.]\n",
      " [0. 1. 0. 0.]\n",
      " [0. 0. 1. 0.]\n",
      " [0. 0. 0. 1.]]\n",
      "[[1. 0. 0.]\n",
      " [0. 1. 0.]\n",
      " [0. 0. 1.]]\n"
     ]
    }
   ],
   "source": [
    "np.zeros((3, 4))      # 3x4 array of zeros\n",
    "np.ones((2, 3))       # 2x3 array of ones\n",
    "np.full((2, 2), 7)    # 2x2 array filled with 7\n",
    "print(np.eye(4)   )          # 4x4 identity matrix\n",
    "np.empty((3, 3))      # uninitialized array (random values)\n",
    "print(np.identity(3))  # 3x3 identity matrix\n"
   ]
  },
  {
   "cell_type": "code",
   "execution_count": 3,
   "id": "1ee3cafb",
   "metadata": {},
   "outputs": [
    {
     "data": {
      "text/plain": [
       "array([0.  , 0.25, 0.5 , 0.75, 1.  ])"
      ]
     },
     "execution_count": 3,
     "metadata": {},
     "output_type": "execute_result"
    }
   ],
   "source": [
    "np.arange(0, 10, 2)   # [0, 2, 4, 6, 8]\n",
    "np.linspace(0, 1, 5)  # 5 numbers between 0 and 1\n"
   ]
  },
  {
   "cell_type": "code",
   "execution_count": 4,
   "id": "11438cf4",
   "metadata": {},
   "outputs": [
    {
     "data": {
      "text/plain": [
       "array([[7, 9, 4],\n",
       "       [5, 7, 6]], dtype=int32)"
      ]
     },
     "execution_count": 4,
     "metadata": {},
     "output_type": "execute_result"
    }
   ],
   "source": [
    "np.random.rand(2, 3)       # 2x3 array of random floats [0,1)\n",
    "np.random.randn(2, 3)      # normal distribution (mean=0, var=1)\n",
    "np.random.randint(1, 10, (2, 3))  # random integers between 1 and 9\n"
   ]
  },
  {
   "cell_type": "code",
   "execution_count": 5,
   "id": "b7ee25af",
   "metadata": {},
   "outputs": [
    {
     "data": {
      "text/plain": [
       "array([[[ 0,  1,  2],\n",
       "        [ 3,  4,  5]],\n",
       "\n",
       "       [[ 6,  7,  8],\n",
       "        [ 9, 10, 11]]])"
      ]
     },
     "execution_count": 5,
     "metadata": {},
     "output_type": "execute_result"
    }
   ],
   "source": [
    "arr = np.arange(12)       # [0, 1, 2, ..., 11]\n",
    "arr.shape                 # (12,)\n",
    "arr.reshape(3, 4)         # reshape to 3x4\n",
    "arr.reshape(2, 2, 3)      # reshape to 3D\n"
   ]
  },
  {
   "cell_type": "code",
   "execution_count": 6,
   "id": "c6c5a34f",
   "metadata": {},
   "outputs": [
    {
     "data": {
      "text/plain": [
       "array([ 0,  1,  2,  3,  4,  5,  6,  7,  8,  9, 10, 11])"
      ]
     },
     "execution_count": 6,
     "metadata": {},
     "output_type": "execute_result"
    }
   ],
   "source": [
    "arr.reshape(3, 4).flatten()  # convert to 1D copy\n",
    "arr.reshape(3, 4).ravel()    # convert to 1D view (no copy)\n"
   ]
  },
  {
   "cell_type": "code",
   "execution_count": 7,
   "id": "f6b0f919",
   "metadata": {},
   "outputs": [
    {
     "data": {
      "text/plain": [
       "array([[1, 4],\n",
       "       [2, 5],\n",
       "       [3, 6]])"
      ]
     },
     "execution_count": 7,
     "metadata": {},
     "output_type": "execute_result"
    }
   ],
   "source": [
    "mat = np.array([[1, 2, 3], [4, 5, 6]])\n",
    "mat.T                        # transpose\n",
    "np.swapaxes(mat, 0, 1)       # swap rows and columns\n"
   ]
  },
  {
   "cell_type": "code",
   "execution_count": 8,
   "id": "b439465b",
   "metadata": {},
   "outputs": [
    {
     "data": {
      "text/plain": [
       "array([[[1, 4],\n",
       "        [2, 5],\n",
       "        [3, 6]]])"
      ]
     },
     "execution_count": 8,
     "metadata": {},
     "output_type": "execute_result"
    }
   ],
   "source": [
    "a = np.array([1, 2, 3])\n",
    "b = np.array([4, 5, 6])\n",
    "\n",
    "np.concatenate((a, b))          # [1, 2, 3, 4, 5, 6]\n",
    "np.vstack((a, b))               # stack vertically\n",
    "np.hstack((a, b))               # stack horizontally\n",
    "np.dstack((a, b))               # stack depth-wise (3D)\n"
   ]
  },
  {
   "cell_type": "code",
   "execution_count": 9,
   "id": "74b5ecd8",
   "metadata": {},
   "outputs": [
    {
     "data": {
      "text/plain": [
       "[array([0, 1, 2, 3]), array([4, 5, 6]), array([7, 8, 9])]"
      ]
     },
     "execution_count": 9,
     "metadata": {},
     "output_type": "execute_result"
    }
   ],
   "source": [
    "arr = np.arange(10)\n",
    "np.split(arr, 5)          # split into 5 equal arrays\n",
    "np.array_split(arr, 3)    # split into 3 (not always equal)\n"
   ]
  },
  {
   "cell_type": "code",
   "execution_count": 10,
   "id": "cbb3bcd8",
   "metadata": {},
   "outputs": [
    {
     "data": {
      "text/plain": [
       "[array([0, 1, 2, 3]), array([4, 5, 6]), array([7, 8, 9])]"
      ]
     },
     "execution_count": 10,
     "metadata": {},
     "output_type": "execute_result"
    }
   ],
   "source": [
    "arr = np.arange(10)\n",
    "np.split(arr, 5)          # split into 5 equal arrays\n",
    "np.array_split(arr, 3)    # split into 3 (not always equal)\n"
   ]
  },
  {
   "cell_type": "code",
   "execution_count": 11,
   "id": "8d115b7d",
   "metadata": {},
   "outputs": [
    {
     "data": {
      "text/plain": [
       "array([1, 3, 5])"
      ]
     },
     "execution_count": 11,
     "metadata": {},
     "output_type": "execute_result"
    }
   ],
   "source": [
    "arr = np.array([1, 2, 3, 4, 5])\n",
    "\n",
    "np.append(arr, [6, 7])           # add at end\n",
    "np.insert(arr, 2, 99)            # insert 99 at index 2\n",
    "np.delete(arr, [1, 3])           # delete elements at index 1 and 3\n"
   ]
  },
  {
   "cell_type": "code",
   "execution_count": 12,
   "id": "4e923cef",
   "metadata": {},
   "outputs": [],
   "source": [
    "a = np.array([1, 2, 3])\n",
    "b = a.copy()      # independent copy\n",
    "c = a.view()      # shares same data\n",
    "a[0] = 99\n",
    "# b is unchanged, c changes\n"
   ]
  },
  {
   "cell_type": "code",
   "execution_count": 13,
   "id": "379f7c82",
   "metadata": {},
   "outputs": [
    {
     "data": {
      "text/plain": [
       "array([[1, 2, 3],\n",
       "       [4, 5, 6]])"
      ]
     },
     "execution_count": 13,
     "metadata": {},
     "output_type": "execute_result"
    }
   ],
   "source": [
    "arr = np.array([3, 1, 2, 5, 4])\n",
    "np.sort(arr)                      # [1,2,3,4,5]\n",
    "\n",
    "mat = np.array([[3, 2, 1], [6, 5, 4]])\n",
    "np.sort(mat, axis=0)              # sort by column\n",
    "np.sort(mat, axis=1)              # sort by row\n"
   ]
  },
  {
   "cell_type": "code",
   "execution_count": 14,
   "id": "be9f043d",
   "metadata": {},
   "outputs": [
    {
     "name": "stdout",
     "output_type": "stream",
     "text": [
      "10\n",
      "50\n",
      "30\n"
     ]
    }
   ],
   "source": [
    "import numpy as np\n",
    "\n",
    "arr = np.array([10, 20, 30, 40, 50])\n",
    "\n",
    "print(arr[0])    # first element → 10\n",
    "print(arr[-1])   # last element  → 50\n",
    "print(arr[2])    # third element → 30\n"
   ]
  },
  {
   "cell_type": "code",
   "execution_count": 15,
   "id": "48bd80ca",
   "metadata": {},
   "outputs": [
    {
     "name": "stdout",
     "output_type": "stream",
     "text": [
      "[20 30 40]\n",
      "[10 20 30]\n",
      "[30 40 50]\n",
      "[10 30 50]\n"
     ]
    }
   ],
   "source": [
    "print(arr[1:4])     # elements from index 1 to 3 → [20, 30, 40]\n",
    "print(arr[:3])      # from start to index 2 → [10, 20, 30]\n",
    "print(arr[2:])      # from index 2 to end → [30, 40, 50]\n",
    "print(arr[::2])     # every 2nd element → [10, 30, 50]\n"
   ]
  },
  {
   "cell_type": "code",
   "execution_count": 16,
   "id": "8f144243",
   "metadata": {},
   "outputs": [
    {
     "name": "stdout",
     "output_type": "stream",
     "text": [
      "1\n",
      "6\n",
      "9\n"
     ]
    }
   ],
   "source": [
    "mat = np.array([[1, 2, 3], \n",
    "                [4, 5, 6], \n",
    "                [7, 8, 9]])\n",
    "\n",
    "print(mat[0, 0])   # element at row 0, col 0 → 1\n",
    "print(mat[1, 2])   # element at row 1, col 2 → 6\n",
    "print(mat[-1, -1]) # last row, last col → 9\n"
   ]
  },
  {
   "cell_type": "code",
   "execution_count": 17,
   "id": "db70e600",
   "metadata": {},
   "outputs": [
    {
     "name": "stdout",
     "output_type": "stream",
     "text": [
      "[[2 3]\n",
      " [5 6]]\n",
      "[2 5 8]\n",
      "[4 5 6]\n"
     ]
    }
   ],
   "source": [
    "print(mat[0:2, 1:3])   # rows 0-1, cols 1-2 → [[2, 3],[5, 6]]\n",
    "print(mat[:, 1])       # all rows, col 1 → [2, 5, 8]\n",
    "print(mat[1, :])       # row 1, all cols → [4, 5, 6]\n"
   ]
  },
  {
   "cell_type": "code",
   "execution_count": 18,
   "id": "4bfb6dc4",
   "metadata": {},
   "outputs": [
    {
     "name": "stdout",
     "output_type": "stream",
     "text": [
      "[10 30 50]\n"
     ]
    }
   ],
   "source": [
    "arr = np.array([10, 20, 30, 40, 50])\n",
    "print(arr[[0, 2, 4]])   # pick elements at index 0, 2, 4 → [10, 30, 50]\n"
   ]
  },
  {
   "cell_type": "code",
   "execution_count": 19,
   "id": "e353308b",
   "metadata": {},
   "outputs": [
    {
     "name": "stdout",
     "output_type": "stream",
     "text": [
      "[20 50]\n"
     ]
    }
   ],
   "source": [
    "mat = np.array([[10, 20], [30, 40], [50, 60]])\n",
    "print(mat[[0, 2], [1, 0]])  # picks (0,1) → 20 and (2,0) → 50\n"
   ]
  },
  {
   "cell_type": "code",
   "execution_count": 20,
   "id": "bda4ff30",
   "metadata": {},
   "outputs": [
    {
     "name": "stdout",
     "output_type": "stream",
     "text": [
      "[30 40 50]\n",
      "[20 40]\n"
     ]
    }
   ],
   "source": [
    "arr = np.array([10, 20, 30, 40, 50])\n",
    "\n",
    "print(arr[arr > 25])      # [30, 40, 50]\n",
    "print(arr[arr % 20 == 0]) # [20, 40]\n"
   ]
  },
  {
   "cell_type": "code",
   "execution_count": 21,
   "id": "631d8e96",
   "metadata": {},
   "outputs": [
    {
     "name": "stdout",
     "output_type": "stream",
     "text": [
      "(array([2, 3, 4]),)\n"
     ]
    }
   ],
   "source": [
    "arr = np.array([10, 20, 30, 40, 50])\n",
    "print(np.where(arr > 25))    # indices where condition is true → (array([2, 3, 4]),)\n"
   ]
  },
  {
   "cell_type": "code",
   "execution_count": null,
   "id": "2d209cb9",
   "metadata": {},
   "outputs": [],
   "source": []
  }
 ],
 "metadata": {
  "kernelspec": {
   "display_name": "Python 3",
   "language": "python",
   "name": "python3"
  },
  "language_info": {
   "codemirror_mode": {
    "name": "ipython",
    "version": 3
   },
   "file_extension": ".py",
   "mimetype": "text/x-python",
   "name": "python",
   "nbconvert_exporter": "python",
   "pygments_lexer": "ipython3",
   "version": "3.10.11"
  }
 },
 "nbformat": 4,
 "nbformat_minor": 5
}
