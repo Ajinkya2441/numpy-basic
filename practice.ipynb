{
 "cells": [
  {
   "cell_type": "code",
   "execution_count": 1,
   "id": "53e6afff",
   "metadata": {},
   "outputs": [],
   "source": [
    "import numpy as np\n",
    "\n"
   ]
  },
  {
   "cell_type": "code",
   "execution_count": null,
   "id": "e27afbcc",
   "metadata": {},
   "outputs": [
    {
     "name": "stdout",
     "output_type": "stream",
     "text": [
      "array: [1 2 3]\n",
      "asarray: [4 5 6]\n",
      "zeros:\n",
      " [[0. 0. 0.]\n",
      " [0. 0. 0.]]\n",
      "ones:\n",
      " [[1. 1.]\n",
      " [1. 1.]]\n",
      "empty:\n",
      " [[1. 1.]\n",
      " [1. 1.]]\n",
      "full:\n",
      " [[7 7 7]\n",
      " [7 7 7]]\n",
      "arange: [0 2 4 6 8]\n",
      "linspace: [0.   0.25 0.5  0.75 1.  ]\n",
      "eye:\n",
      " [[1. 0. 0.]\n",
      " [0. 1. 0.]\n",
      " [0. 0. 1.]]\n",
      "identity:\n",
      " [[1. 0. 0. 0.]\n",
      " [0. 1. 0. 0.]\n",
      " [0. 0. 1. 0.]\n",
      " [0. 0. 0. 1.]]\n"
     ]
    }
   ],
   "source": [
    "a = np.array([1, 2, 3])\n",
    "print(\"array:\", a)\n",
    "\n",
    "b = np.asarray([4, 5, 6])\n",
    "print(\"asarray:\", b)\n",
    "\n",
    "z = np.zeros((2,3))\n",
    "print(\"zeros:\\n\", z)\n",
    "\n",
    "\n",
    "o = np.ones((2,2))\n",
    "print(\"ones:\\n\", o)\n",
    "\n",
    "e = np.empty((2,2))\n",
    "print(\"empty:\\n\", e)\n",
    "\n",
    "f = np.full((2,3), 7)\n",
    "print(\"full:\\n\", f)\n",
    "\n",
    "\n",
    "ar = np.arange(0, 10, 2)\n",
    "print(\"arange:\", ar)\n",
    "\n",
    "ls = np.linspace(0, 1, 5)\n",
    "print(\"linspace:\", ls)\n",
    "\n",
    "# eye\n",
    "eye = np.eye(3)\n",
    "print(\"eye:\\n\", eye)\n",
    "\n",
    "\n",
    "iden = np.identity(4)\n",
    "print(\"identity:\\n\", iden)\n"
   ]
  },
  {
   "cell_type": "code",
   "execution_count": null,
   "id": "8e416dc3",
   "metadata": {},
   "outputs": [
    {
     "name": "stdout",
     "output_type": "stream",
     "text": [
      "ndim: 2\n",
      "shape: (2, 3)\n",
      "size: 6\n",
      "dtype: int64\n"
     ]
    }
   ],
   "source": [
    "a = np.array([[1,2,3],[4,5,6]])\n",
    "print(\"ndim:\", a.ndim)    \n",
    "print(\"shape:\", a.shape)  \n",
    "print(\"size:\", a.size)    \n",
    "print(\"dtype:\", a.dtype)  \n"
   ]
  },
  {
   "cell_type": "code",
   "execution_count": null,
   "id": "04a6ccaf",
   "metadata": {},
   "outputs": [
    {
     "name": "stdout",
     "output_type": "stream",
     "text": [
      "astype: [1 2 3]\n",
      "tolist: [10, 20, 30]\n"
     ]
    }
   ],
   "source": [
    "a = np.array([1.7, 2.8, 3.9])\n",
    "print(\"astype:\", a.astype(int))   \n",
    "\n",
    "b = np.array([10,20,30])\n",
    "print(\"tolist:\", b.tolist())      \n"
   ]
  },
  {
   "cell_type": "code",
   "execution_count": null,
   "id": "672d7bbe",
   "metadata": {},
   "outputs": [
    {
     "name": "stdout",
     "output_type": "stream",
     "text": [
      "reshape:\n",
      " [[0 1 2]\n",
      " [3 4 5]]\n",
      "ravel: [0 1 2 3 4 5]\n",
      "flatten: [0 1 2 3 4 5]\n",
      "transpose:\n",
      " [[1 3]\n",
      " [2 4]]\n",
      "squeeze: [1 2 3]\n",
      "expand_dims: [[1 2]]\n",
      "concatenate: [1 2 3 4]\n",
      "stack:\n",
      " [[1 2]\n",
      " [3 4]]\n",
      "hstack: [1 2 3 4]\n",
      "vstack:\n",
      " [[1 2]\n",
      " [3 4]]\n",
      "split: [array([0, 1]), array([2, 3]), array([4, 5])]\n"
     ]
    }
   ],
   "source": [
    "a = np.arange(6)\n",
    "print(\"reshape:\\n\", a.reshape(2,3))\n",
    "\n",
    "print(\"ravel:\", a.ravel())    # [0 1 2 3 4 5]\n",
    "\n",
    "print(\"flatten:\", a.flatten())  # [0 1 2 3 4 5]\n",
    "\n",
    "b = np.array([[1,2],[3,4]])\n",
    "print(\"transpose:\\n\", b.transpose())\n",
    "# [[1 3]\n",
    "#  [2 4]]\n",
    "\n",
    "c = np.array([[[1],[2],[3]]])\n",
    "print(\"squeeze:\", np.squeeze(c))  # [1 2 3]\n",
    "\n",
    "d = np.array([1,2])\n",
    "print(\"expand_dims:\", np.expand_dims(d, axis=0))  \n",
    "# [[1 2]]\n",
    "\n",
    "x = np.array([1,2])\n",
    "y = np.array([3,4])\n",
    "print(\"concatenate:\", np.concatenate((x,y)))  # [1 2 3 4]\n",
    "\n",
    "print(\"stack:\\n\", np.stack((x,y)))\n",
    "# [[1 2]\n",
    "#  [3 4]]\n",
    "\n",
    "print(\"hstack:\", np.hstack((x,y)))  # [1 2 3 4]\n",
    "\n",
    "print(\"vstack:\\n\", np.vstack((x,y)))\n",
    "# [[1 2]\n",
    "#  [3 4]]\n",
    "\n",
    "arr = np.arange(6)\n",
    "print(\"split:\", np.split(arr, 3))  \n",
    "# [array([0, 1]), array([2, 3]), array([4, 5])]\n"
   ]
  },
  {
   "cell_type": "code",
   "execution_count": 6,
   "id": "837a7e76",
   "metadata": {},
   "outputs": [
    {
     "name": "stdout",
     "output_type": "stream",
     "text": [
      "add: [5 7 9]\n",
      "subtract: [-3 -3 -3]\n",
      "multiply: [ 4 10 18]\n",
      "divide: [4.  2.5 2. ]\n",
      "mod: [0 1 0]\n",
      "power: [1 4 9]\n",
      "negative: [-1 -2 -3]\n"
     ]
    }
   ],
   "source": [
    "a = np.array([1,2,3])\n",
    "b = np.array([4,5,6])\n",
    "\n",
    "print(\"add:\", np.add(a,b))          # [5 7 9]\n",
    "print(\"subtract:\", np.subtract(a,b))# [-3 -3 -3]\n",
    "print(\"multiply:\", np.multiply(a,b))# [ 4 10 18]\n",
    "print(\"divide:\", np.divide(b,a))    # [4.  2.5 2. ]\n",
    "print(\"mod:\", np.mod(b,a))          # [0 1 0]\n",
    "print(\"power:\", np.power(a,2))      # [1 4 9]\n",
    "print(\"negative:\", np.negative(a))  # [-1 -2 -3]\n"
   ]
  },
  {
   "cell_type": "code",
   "execution_count": 7,
   "id": "fc348152",
   "metadata": {},
   "outputs": [
    {
     "name": "stdout",
     "output_type": "stream",
     "text": [
      "min: 1\n",
      "max: 5\n",
      "argmin: 0\n",
      "argmax: 4\n",
      "mean: 3.0\n",
      "median: 3.0\n",
      "std: 1.4142135623730951\n",
      "var: 2.0\n",
      "sum: 15\n",
      "prod: 120\n",
      "cumsum: [ 1  3  6 10 15]\n",
      "cumprod: [  1   2   6  24 120]\n"
     ]
    }
   ],
   "source": [
    "a = np.array([1,2,3,4,5])\n",
    "\n",
    "print(\"min:\", np.min(a))      # 1\n",
    "print(\"max:\", np.max(a))      # 5\n",
    "print(\"argmin:\", np.argmin(a))# 0\n",
    "print(\"argmax:\", np.argmax(a))# 4\n",
    "print(\"mean:\", np.mean(a))    # 3.0\n",
    "print(\"median:\", np.median(a))# 3.0\n",
    "print(\"std:\", np.std(a))      # 1.4142\n",
    "print(\"var:\", np.var(a))      # 2.0\n",
    "print(\"sum:\", np.sum(a))      # 15\n",
    "print(\"prod:\", np.prod(a))    # 120\n",
    "print(\"cumsum:\", np.cumsum(a))# [ 1  3  6 10 15]\n",
    "print(\"cumprod:\", np.cumprod(a))# [  1   2   6  24 120]\n"
   ]
  },
  {
   "cell_type": "code",
   "execution_count": 8,
   "id": "246374da",
   "metadata": {},
   "outputs": [
    {
     "name": "stdout",
     "output_type": "stream",
     "text": [
      "sort: [1 2 3]\n",
      "argsort: [1 2 0]\n",
      "unique: [1 2 3]\n"
     ]
    }
   ],
   "source": [
    "a = np.array([3,1,2])\n",
    "print(\"sort:\", np.sort(a))        # [1 2 3]\n",
    "\n",
    "print(\"argsort:\", np.argsort(a))  # [1 2 0]\n",
    "\n",
    "b = np.array([1,2,2,3,3,3])\n",
    "print(\"unique:\", np.unique(b))    # [1 2 3]\n"
   ]
  },
  {
   "cell_type": "code",
   "execution_count": null,
   "id": "bf3e9155",
   "metadata": {},
   "outputs": [
    {
     "name": "stdout",
     "output_type": "stream",
     "text": [
      "rand: [[0.22914398 0.85285527]\n",
      " [0.10614987 0.63682326]]\n",
      "randint: [7 3 6 8 7]\n",
      "choice: [10 20 30 30 10]\n",
      "shuffle: [1 5 3 4 2]\n",
      "seed + rand: [0.5488135  0.71518937 0.60276338]\n"
     ]
    }
   ],
   "source": [
    "print(\"rand:\", np.random.rand(2,2))\n",
    "# e.g. [[0.55 0.71]\n",
    "#       [0.42 0.99]]\n",
    "\n",
    "print(\"randint:\", np.random.randint(1,10,5))  \n",
    "# e.g. [3 7 4 6 1]\n",
    "\n",
    "print(\"choice:\", np.random.choice([10,20,30], 5))  \n",
    "# e.g. [30 10 20 10 30]\n",
    "\n",
    "arr = np.array([1,2,3,4,5])\n",
    "np.random.shuffle(arr)\n",
    "print(\"shuffle:\", arr) \n",
    "\n",
    "np.random.seed(0)\n",
    "print(\"seed + rand:\", np.random.rand(3))\n"
   ]
  },
  {
   "cell_type": "code",
   "execution_count": null,
   "id": "d576fe14",
   "metadata": {},
   "outputs": [],
   "source": []
  }
 ],
 "metadata": {
  "kernelspec": {
   "display_name": "Python 3",
   "language": "python",
   "name": "python3"
  },
  "language_info": {
   "codemirror_mode": {
    "name": "ipython",
    "version": 3
   },
   "file_extension": ".py",
   "mimetype": "text/x-python",
   "name": "python",
   "nbconvert_exporter": "python",
   "pygments_lexer": "ipython3",
   "version": "3.10.11"
  }
 },
 "nbformat": 4,
 "nbformat_minor": 5
}
