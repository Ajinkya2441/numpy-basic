{
 "cells": [
  {
   "cell_type": "code",
   "execution_count": 2,
   "id": "74128cdf",
   "metadata": {},
   "outputs": [
    {
     "name": "stdout",
     "output_type": "stream",
     "text": [
      "[1 2 3]\n",
      "[0 2 4 6 8]\n",
      "[0.   0.25 0.5  0.75 1.  ]\n",
      "[[0. 0. 0.]\n",
      " [0. 0. 0.]]\n",
      "[[1. 1. 1.]\n",
      " [1. 1. 1.]]\n",
      "[[1. 1. 1.]\n",
      " [1. 1. 1.]]\n",
      "[[7 7 7]\n",
      " [7 7 7]]\n",
      "[[1. 0. 0.]\n",
      " [0. 1. 0.]\n",
      " [0. 0. 1.]]\n",
      "[[0. 1. 0. 0.]\n",
      " [0. 0. 1. 0.]\n",
      " [0. 0. 0. 1.]]\n",
      "[[1 0 0]\n",
      " [0 2 0]\n",
      " [0 0 3]]\n",
      "[[0.50050625 0.47864469 0.18684596]\n",
      " [0.62083518 0.24167801 0.02789151]]\n",
      "[[2 4 8]\n",
      " [2 4 9]]\n"
     ]
    }
   ],
   "source": [
    "import numpy as np\n",
    "\n",
    "print(np.array([1,2,3]))\n",
    "print(np.arange(0,10,2))\n",
    "print(np.linspace(0,1,5))\n",
    "print(np.zeros((2,3)))\n",
    "print(np.ones((2,3)))\n",
    "print(np.empty((2,3)))\n",
    "print(np.full((2,3),7))\n",
    "print(np.identity(3))\n",
    "print(np.eye(3,4,k=1))\n",
    "print(np.diag([1,2,3]))\n",
    "print(np.random.rand(2,3))\n",
    "print(np.random.randint(1,10,(2,3)))\n"
   ]
  },
  {
   "cell_type": "code",
   "execution_count": 2,
   "id": "efa3e762",
   "metadata": {},
   "outputs": [
    {
     "name": "stdout",
     "output_type": "stream",
     "text": [
      "(2, 3)\n",
      "2\n",
      "6\n",
      "int64\n",
      "8\n",
      "48\n"
     ]
    }
   ],
   "source": [
    "arr = np.array([[1,2,3],[4,5,6]])\n",
    "print(arr.shape)\n",
    "print(arr.ndim)\n",
    "print(arr.size)\n",
    "print(arr.dtype)\n",
    "print(arr.itemsize)\n",
    "print(arr.nbytes)\n"
   ]
  },
  {
   "cell_type": "code",
   "execution_count": 3,
   "id": "700c3937",
   "metadata": {},
   "outputs": [
    {
     "name": "stdout",
     "output_type": "stream",
     "text": [
      "2\n",
      "[2 3 4 5 6]\n",
      "[9 8 7 6 5 4 3 2 1 0]\n",
      "[1 3 5]\n",
      "[0 2 4 6 8]\n"
     ]
    }
   ],
   "source": [
    "a = np.arange(10)\n",
    "print(a[2])\n",
    "print(a[2:7])\n",
    "print(a[::-1])\n",
    "print(a[[1,3,5]])\n",
    "print(a[a%2==0])\n"
   ]
  },
  {
   "cell_type": "code",
   "execution_count": 4,
   "id": "a3a5985a",
   "metadata": {},
   "outputs": [
    {
     "name": "stdout",
     "output_type": "stream",
     "text": [
      "[[0 1 2]\n",
      " [3 4 5]]\n",
      "[0 1 2 3 4 5]\n",
      "[[0 3]\n",
      " [1 4]\n",
      " [2 5]]\n",
      "[0 1 2 3 4 5 0 1 2 3 4 5]\n",
      "[[0 1 2 3 4 5]\n",
      " [0 1 2 3 4 5]]\n"
     ]
    }
   ],
   "source": [
    "b = np.arange(6)\n",
    "print(b.reshape(2,3))\n",
    "print(b.ravel())\n",
    "print(b.reshape(2,3).T)\n",
    "print(np.concatenate([b,b]))\n",
    "print(np.stack([b,b]))\n"
   ]
  },
  {
   "cell_type": "code",
   "execution_count": 5,
   "id": "08d010bb",
   "metadata": {},
   "outputs": [
    {
     "name": "stdout",
     "output_type": "stream",
     "text": [
      "21\n",
      "3.5\n",
      "1.707825127659933\n",
      "1 6\n",
      "0 5\n",
      "[ 1  3  6 10 15 21]\n",
      "[  1   2   6  24 120 720]\n"
     ]
    }
   ],
   "source": [
    "m = np.array([[1,2,3],[4,5,6]])\n",
    "print(m.sum())\n",
    "print(m.mean())\n",
    "print(m.std())\n",
    "print(m.min(), m.max())\n",
    "print(m.argmin(), m.argmax())\n",
    "print(m.cumsum())\n",
    "print(m.cumprod())\n"
   ]
  },
  {
   "cell_type": "code",
   "execution_count": 3,
   "id": "1d903958",
   "metadata": {},
   "outputs": [
    {
     "name": "stdout",
     "output_type": "stream",
     "text": [
      "[1 1 1 1 2 2 2 2 3 3 3 3]\n",
      "[1 2 2 3 3 3]\n",
      "[[1 2]\n",
      " [1 2]\n",
      " [3 4]\n",
      " [3 4]]\n",
      "[[1 1 2 2]\n",
      " [3 3 4 4]]\n",
      "[array([[1, 2],\n",
      "       [5, 6]]), array([[3, 4],\n",
      "       [7, 8]])]\n",
      "[array([[1],\n",
      "       [5]]), array([[2, 3],\n",
      "       [6, 7]]), array([[4],\n",
      "       [8]])]\n",
      "[array([[1, 2, 3, 4],\n",
      "       [5, 6, 7, 8]]), array([[ 9, 10, 11, 12],\n",
      "       [13, 14, 15, 16]])]\n",
      "[array([[1, 2, 3, 4]]), array([[ 5,  6,  7,  8],\n",
      "       [ 9, 10, 11, 12]]), array([[13, 14, 15, 16]])]\n"
     ]
    }
   ],
   "source": [
    "import numpy as np\n",
    "\n",
    "arr = np.array([1, 2, 3])\n",
    "print(np.repeat(arr, 4))\n",
    "print(np.repeat(arr, [1, 2, 3]))\n",
    "\n",
    "arr2 = np.array([[1, 2], [3, 4]])\n",
    "print(np.repeat(arr2, 2, axis=0))\n",
    "print(np.repeat(arr2, 2, axis=1))\n",
    "\n",
    "\n",
    "arr = np.array([[1, 2, 3, 4],\n",
    "                [5, 6, 7, 8]])\n",
    "print(np.hsplit(arr, 2))\n",
    "print(np.hsplit(arr, [1, 3]))\n",
    "\n",
    "\n",
    "arr = np.array([[1, 2, 3, 4],\n",
    "                [5, 6, 7, 8],\n",
    "                [9, 10, 11, 12],\n",
    "                [13, 14, 15, 16]])\n",
    "print(np.vsplit(arr, 2))\n",
    "print(np.vsplit(arr, [1, 3]))\n"
   ]
  },
  {
   "cell_type": "code",
   "execution_count": null,
   "id": "c77f8497",
   "metadata": {},
   "outputs": [
    {
     "ename": "TypeError",
     "evalue": "copy() missing 1 required positional argument: 'a'",
     "output_type": "error",
     "traceback": [
      "\u001b[1;31m---------------------------------------------------------------------------\u001b[0m",
      "\u001b[1;31mTypeError\u001b[0m                                 Traceback (most recent call last)",
      "Cell \u001b[1;32mIn[5], line 1\u001b[0m\n\u001b[1;32m----> 1\u001b[0m arr\u001b[38;5;241m=\u001b[39m\u001b[43mnp\u001b[49m\u001b[38;5;241;43m.\u001b[39;49m\u001b[43mcopy\u001b[49m\u001b[43m(\u001b[49m\u001b[43m)\u001b[49m\n\u001b[0;32m      2\u001b[0m arr\u001b[38;5;241m=\u001b[39mnp\u001b[38;5;241m.\u001b[39mview()\n\u001b[0;32m      3\u001b[0m arr\u001b[38;5;241m=\u001b[39mnp\u001b[38;5;241m.\u001b[39mclip(arr, \u001b[38;5;241m3\u001b[39m, \u001b[38;5;241m8\u001b[39m)\n",
      "\u001b[1;31mTypeError\u001b[0m: copy() missing 1 required positional argument: 'a'"
     ]
    }
   ],
   "source": [
    "arr=np.copy()\n",
    "\n",
    "arr=np.view()\n",
    "arr=np.clip(arr, 3, 8)\n",
    "arr=np.where(arr > 5, arr, 0)\n",
    "arr=np.unique(arr)\n",
    "np.rand()\n",
    "print(arr.T)\n",
    "np.shuffle(arr)\n",
    "np.sort(arr)\n",
    "np.permutation(arr)\n",
    "np.argmax(arr)\n",
    "np.argmin(arr)\n",
    "np.dot(arr)"
   ]
  }
 ],
 "metadata": {
  "kernelspec": {
   "display_name": "Python 3",
   "language": "python",
   "name": "python3"
  },
  "language_info": {
   "codemirror_mode": {
    "name": "ipython",
    "version": 3
   },
   "file_extension": ".py",
   "mimetype": "text/x-python",
   "name": "python",
   "nbconvert_exporter": "python",
   "pygments_lexer": "ipython3",
   "version": "3.10.11"
  }
 },
 "nbformat": 4,
 "nbformat_minor": 5
}
